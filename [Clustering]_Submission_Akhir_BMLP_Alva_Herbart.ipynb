{
  "cells": [
    {
      "cell_type": "markdown",
      "metadata": {
        "id": "kZLRMFl0JyyQ"
      },
      "source": [
        "# **1. Perkenalan Dataset**\n"
      ]
    },
    {
      "cell_type": "markdown",
      "metadata": {
        "id": "hssSDn-5n3HR"
      },
      "source": [
        "Tahap pertama, Anda harus mencari dan menggunakan dataset **tanpa label** dengan ketentuan sebagai berikut:\n",
        "\n",
        "1. **Sumber Dataset**:  \n",
        "   Dataset dapat diperoleh dari berbagai sumber, seperti public repositories (*Kaggle*, *UCI ML Repository*, *Open Data*) atau data primer yang Anda kumpulkan sendiri.\n",
        "   \n",
        "2. **Ketentuan Dataset**:\n",
        "   - **Tanpa label**: Dataset tidak boleh memiliki label atau kelas.\n",
        "   - **Jumlah Baris**: Minimal 1000 baris untuk memastikan dataset cukup besar untuk analisis yang bermakna.\n",
        "   - **Tipe Data**: Harus mengandung data **kategorikal** dan **numerikal**.\n",
        "     - *Kategorikal*: Misalnya jenis kelamin, kategori produk.\n",
        "     - *Numerikal*: Misalnya usia, pendapatan, harga.\n",
        "\n",
        "3. **Pembatasan**:  \n",
        "   Dataset yang sudah digunakan dalam latihan clustering (seperti customer segmentation) tidak boleh digunakan."
      ]
    },
    {
      "cell_type": "markdown",
      "source": [
        "Sumber Dataset:\n",
        "https://www.kaggle.com/datasets/michaelanietie/nigerian-house-price-dataset"
      ],
      "metadata": {
        "id": "-e5QE8Mhrfuy"
      }
    },
    {
      "cell_type": "markdown",
      "metadata": {
        "id": "fKADPWcFKlj3"
      },
      "source": [
        "# **2. Import Library**"
      ]
    },
    {
      "cell_type": "markdown",
      "metadata": {
        "id": "LgA3ERnVn84N"
      },
      "source": [
        "Pada tahap ini, Anda perlu mengimpor beberapa pustaka (library) Python yang dibutuhkan untuk analisis data dan pembangunan model machine learning."
      ]
    },
    {
      "cell_type": "code",
      "execution_count": 1,
      "metadata": {
        "id": "BlmvjLY9M4Yj"
      },
      "outputs": [],
      "source": [
        "import pandas as pd\n",
        "import seaborn as sns\n",
        "import matplotlib.pyplot as plt\n",
        "from sklearn.preprocessing import StandardScaler\n",
        "from sklearn.decomposition import PCA\n",
        "from sklearn.cluster import KMeans\n",
        "from yellowbrick.cluster import KElbowVisualizer\n",
        "from sklearn.preprocessing import LabelEncoder\n",
        "from sklearn.metrics import silhouette_score\n",
        "from sklearn.feature_selection import SelectKBest, f_classif"
      ]
    },
    {
      "cell_type": "markdown",
      "metadata": {
        "id": "f3YIEnAFKrKL"
      },
      "source": [
        "# **3. Memuat Dataset**"
      ]
    },
    {
      "cell_type": "markdown",
      "metadata": {
        "id": "Ey3ItwTen_7E"
      },
      "source": [
        "Pada tahap ini, Anda perlu memuat dataset ke dalam notebook. Jika dataset dalam format CSV, Anda bisa menggunakan pustaka pandas untuk membacanya. Pastikan untuk mengecek beberapa baris awal dataset untuk memahami strukturnya dan memastikan data telah dimuat dengan benar.\n",
        "\n",
        "Jika dataset berada di Google Drive, pastikan Anda menghubungkan Google Drive ke Colab terlebih dahulu. Setelah dataset berhasil dimuat, langkah berikutnya adalah memeriksa kesesuaian data dan siap untuk dianalisis lebih lanjut."
      ]
    },
    {
      "cell_type": "code",
      "source": [
        "df = pd.read_csv(\"nigeria_houses_data.csv\")\n",
        "df[['bedrooms', 'bathrooms', 'toilets', 'parking_space', 'price']] = df[['bedrooms', 'bathrooms', 'toilets', 'parking_space', 'price']].astype(int)\n",
        "df.head()"
      ],
      "metadata": {
        "id": "HVr6ejevxPEl",
        "colab": {
          "base_uri": "https://localhost:8080/",
          "height": 206
        },
        "outputId": "c26b7bd6-a676-4981-a329-dd4f24fbcf9e"
      },
      "execution_count": 2,
      "outputs": [
        {
          "output_type": "execute_result",
          "data": {
            "text/plain": [
              "   bedrooms  bathrooms  toilets  parking_space                 title     town  \\\n",
              "0         6          5        5              4       Detached Duplex  Mabushi   \n",
              "1         4          5        5              4     Terraced Duplexes  Katampe   \n",
              "2         4          5        5              4       Detached Duplex    Lekki   \n",
              "3         4          4        5              6       Detached Duplex     Ajah   \n",
              "4         4          4        5              2  Semi Detached Duplex    Lekki   \n",
              "\n",
              "   state      price  \n",
              "0  Abuja  450000000  \n",
              "1  Abuja  800000000  \n",
              "2  Lagos  120000000  \n",
              "3  Lagos   40000000  \n",
              "4  Lagos   75000000  "
            ],
            "text/html": [
              "\n",
              "  <div id=\"df-197411b1-de8d-49b3-8e30-19a7ecac7d6b\" class=\"colab-df-container\">\n",
              "    <div>\n",
              "<style scoped>\n",
              "    .dataframe tbody tr th:only-of-type {\n",
              "        vertical-align: middle;\n",
              "    }\n",
              "\n",
              "    .dataframe tbody tr th {\n",
              "        vertical-align: top;\n",
              "    }\n",
              "\n",
              "    .dataframe thead th {\n",
              "        text-align: right;\n",
              "    }\n",
              "</style>\n",
              "<table border=\"1\" class=\"dataframe\">\n",
              "  <thead>\n",
              "    <tr style=\"text-align: right;\">\n",
              "      <th></th>\n",
              "      <th>bedrooms</th>\n",
              "      <th>bathrooms</th>\n",
              "      <th>toilets</th>\n",
              "      <th>parking_space</th>\n",
              "      <th>title</th>\n",
              "      <th>town</th>\n",
              "      <th>state</th>\n",
              "      <th>price</th>\n",
              "    </tr>\n",
              "  </thead>\n",
              "  <tbody>\n",
              "    <tr>\n",
              "      <th>0</th>\n",
              "      <td>6</td>\n",
              "      <td>5</td>\n",
              "      <td>5</td>\n",
              "      <td>4</td>\n",
              "      <td>Detached Duplex</td>\n",
              "      <td>Mabushi</td>\n",
              "      <td>Abuja</td>\n",
              "      <td>450000000</td>\n",
              "    </tr>\n",
              "    <tr>\n",
              "      <th>1</th>\n",
              "      <td>4</td>\n",
              "      <td>5</td>\n",
              "      <td>5</td>\n",
              "      <td>4</td>\n",
              "      <td>Terraced Duplexes</td>\n",
              "      <td>Katampe</td>\n",
              "      <td>Abuja</td>\n",
              "      <td>800000000</td>\n",
              "    </tr>\n",
              "    <tr>\n",
              "      <th>2</th>\n",
              "      <td>4</td>\n",
              "      <td>5</td>\n",
              "      <td>5</td>\n",
              "      <td>4</td>\n",
              "      <td>Detached Duplex</td>\n",
              "      <td>Lekki</td>\n",
              "      <td>Lagos</td>\n",
              "      <td>120000000</td>\n",
              "    </tr>\n",
              "    <tr>\n",
              "      <th>3</th>\n",
              "      <td>4</td>\n",
              "      <td>4</td>\n",
              "      <td>5</td>\n",
              "      <td>6</td>\n",
              "      <td>Detached Duplex</td>\n",
              "      <td>Ajah</td>\n",
              "      <td>Lagos</td>\n",
              "      <td>40000000</td>\n",
              "    </tr>\n",
              "    <tr>\n",
              "      <th>4</th>\n",
              "      <td>4</td>\n",
              "      <td>4</td>\n",
              "      <td>5</td>\n",
              "      <td>2</td>\n",
              "      <td>Semi Detached Duplex</td>\n",
              "      <td>Lekki</td>\n",
              "      <td>Lagos</td>\n",
              "      <td>75000000</td>\n",
              "    </tr>\n",
              "  </tbody>\n",
              "</table>\n",
              "</div>\n",
              "    <div class=\"colab-df-buttons\">\n",
              "\n",
              "  <div class=\"colab-df-container\">\n",
              "    <button class=\"colab-df-convert\" onclick=\"convertToInteractive('df-197411b1-de8d-49b3-8e30-19a7ecac7d6b')\"\n",
              "            title=\"Convert this dataframe to an interactive table.\"\n",
              "            style=\"display:none;\">\n",
              "\n",
              "  <svg xmlns=\"http://www.w3.org/2000/svg\" height=\"24px\" viewBox=\"0 -960 960 960\">\n",
              "    <path d=\"M120-120v-720h720v720H120Zm60-500h600v-160H180v160Zm220 220h160v-160H400v160Zm0 220h160v-160H400v160ZM180-400h160v-160H180v160Zm440 0h160v-160H620v160ZM180-180h160v-160H180v160Zm440 0h160v-160H620v160Z\"/>\n",
              "  </svg>\n",
              "    </button>\n",
              "\n",
              "  <style>\n",
              "    .colab-df-container {\n",
              "      display:flex;\n",
              "      gap: 12px;\n",
              "    }\n",
              "\n",
              "    .colab-df-convert {\n",
              "      background-color: #E8F0FE;\n",
              "      border: none;\n",
              "      border-radius: 50%;\n",
              "      cursor: pointer;\n",
              "      display: none;\n",
              "      fill: #1967D2;\n",
              "      height: 32px;\n",
              "      padding: 0 0 0 0;\n",
              "      width: 32px;\n",
              "    }\n",
              "\n",
              "    .colab-df-convert:hover {\n",
              "      background-color: #E2EBFA;\n",
              "      box-shadow: 0px 1px 2px rgba(60, 64, 67, 0.3), 0px 1px 3px 1px rgba(60, 64, 67, 0.15);\n",
              "      fill: #174EA6;\n",
              "    }\n",
              "\n",
              "    .colab-df-buttons div {\n",
              "      margin-bottom: 4px;\n",
              "    }\n",
              "\n",
              "    [theme=dark] .colab-df-convert {\n",
              "      background-color: #3B4455;\n",
              "      fill: #D2E3FC;\n",
              "    }\n",
              "\n",
              "    [theme=dark] .colab-df-convert:hover {\n",
              "      background-color: #434B5C;\n",
              "      box-shadow: 0px 1px 3px 1px rgba(0, 0, 0, 0.15);\n",
              "      filter: drop-shadow(0px 1px 2px rgba(0, 0, 0, 0.3));\n",
              "      fill: #FFFFFF;\n",
              "    }\n",
              "  </style>\n",
              "\n",
              "    <script>\n",
              "      const buttonEl =\n",
              "        document.querySelector('#df-197411b1-de8d-49b3-8e30-19a7ecac7d6b button.colab-df-convert');\n",
              "      buttonEl.style.display =\n",
              "        google.colab.kernel.accessAllowed ? 'block' : 'none';\n",
              "\n",
              "      async function convertToInteractive(key) {\n",
              "        const element = document.querySelector('#df-197411b1-de8d-49b3-8e30-19a7ecac7d6b');\n",
              "        const dataTable =\n",
              "          await google.colab.kernel.invokeFunction('convertToInteractive',\n",
              "                                                    [key], {});\n",
              "        if (!dataTable) return;\n",
              "\n",
              "        const docLinkHtml = 'Like what you see? Visit the ' +\n",
              "          '<a target=\"_blank\" href=https://colab.research.google.com/notebooks/data_table.ipynb>data table notebook</a>'\n",
              "          + ' to learn more about interactive tables.';\n",
              "        element.innerHTML = '';\n",
              "        dataTable['output_type'] = 'display_data';\n",
              "        await google.colab.output.renderOutput(dataTable, element);\n",
              "        const docLink = document.createElement('div');\n",
              "        docLink.innerHTML = docLinkHtml;\n",
              "        element.appendChild(docLink);\n",
              "      }\n",
              "    </script>\n",
              "  </div>\n",
              "\n",
              "\n",
              "<div id=\"df-ac64f558-8b8b-4800-895f-b3c793a433a5\">\n",
              "  <button class=\"colab-df-quickchart\" onclick=\"quickchart('df-ac64f558-8b8b-4800-895f-b3c793a433a5')\"\n",
              "            title=\"Suggest charts\"\n",
              "            style=\"display:none;\">\n",
              "\n",
              "<svg xmlns=\"http://www.w3.org/2000/svg\" height=\"24px\"viewBox=\"0 0 24 24\"\n",
              "     width=\"24px\">\n",
              "    <g>\n",
              "        <path d=\"M19 3H5c-1.1 0-2 .9-2 2v14c0 1.1.9 2 2 2h14c1.1 0 2-.9 2-2V5c0-1.1-.9-2-2-2zM9 17H7v-7h2v7zm4 0h-2V7h2v10zm4 0h-2v-4h2v4z\"/>\n",
              "    </g>\n",
              "</svg>\n",
              "  </button>\n",
              "\n",
              "<style>\n",
              "  .colab-df-quickchart {\n",
              "      --bg-color: #E8F0FE;\n",
              "      --fill-color: #1967D2;\n",
              "      --hover-bg-color: #E2EBFA;\n",
              "      --hover-fill-color: #174EA6;\n",
              "      --disabled-fill-color: #AAA;\n",
              "      --disabled-bg-color: #DDD;\n",
              "  }\n",
              "\n",
              "  [theme=dark] .colab-df-quickchart {\n",
              "      --bg-color: #3B4455;\n",
              "      --fill-color: #D2E3FC;\n",
              "      --hover-bg-color: #434B5C;\n",
              "      --hover-fill-color: #FFFFFF;\n",
              "      --disabled-bg-color: #3B4455;\n",
              "      --disabled-fill-color: #666;\n",
              "  }\n",
              "\n",
              "  .colab-df-quickchart {\n",
              "    background-color: var(--bg-color);\n",
              "    border: none;\n",
              "    border-radius: 50%;\n",
              "    cursor: pointer;\n",
              "    display: none;\n",
              "    fill: var(--fill-color);\n",
              "    height: 32px;\n",
              "    padding: 0;\n",
              "    width: 32px;\n",
              "  }\n",
              "\n",
              "  .colab-df-quickchart:hover {\n",
              "    background-color: var(--hover-bg-color);\n",
              "    box-shadow: 0 1px 2px rgba(60, 64, 67, 0.3), 0 1px 3px 1px rgba(60, 64, 67, 0.15);\n",
              "    fill: var(--button-hover-fill-color);\n",
              "  }\n",
              "\n",
              "  .colab-df-quickchart-complete:disabled,\n",
              "  .colab-df-quickchart-complete:disabled:hover {\n",
              "    background-color: var(--disabled-bg-color);\n",
              "    fill: var(--disabled-fill-color);\n",
              "    box-shadow: none;\n",
              "  }\n",
              "\n",
              "  .colab-df-spinner {\n",
              "    border: 2px solid var(--fill-color);\n",
              "    border-color: transparent;\n",
              "    border-bottom-color: var(--fill-color);\n",
              "    animation:\n",
              "      spin 1s steps(1) infinite;\n",
              "  }\n",
              "\n",
              "  @keyframes spin {\n",
              "    0% {\n",
              "      border-color: transparent;\n",
              "      border-bottom-color: var(--fill-color);\n",
              "      border-left-color: var(--fill-color);\n",
              "    }\n",
              "    20% {\n",
              "      border-color: transparent;\n",
              "      border-left-color: var(--fill-color);\n",
              "      border-top-color: var(--fill-color);\n",
              "    }\n",
              "    30% {\n",
              "      border-color: transparent;\n",
              "      border-left-color: var(--fill-color);\n",
              "      border-top-color: var(--fill-color);\n",
              "      border-right-color: var(--fill-color);\n",
              "    }\n",
              "    40% {\n",
              "      border-color: transparent;\n",
              "      border-right-color: var(--fill-color);\n",
              "      border-top-color: var(--fill-color);\n",
              "    }\n",
              "    60% {\n",
              "      border-color: transparent;\n",
              "      border-right-color: var(--fill-color);\n",
              "    }\n",
              "    80% {\n",
              "      border-color: transparent;\n",
              "      border-right-color: var(--fill-color);\n",
              "      border-bottom-color: var(--fill-color);\n",
              "    }\n",
              "    90% {\n",
              "      border-color: transparent;\n",
              "      border-bottom-color: var(--fill-color);\n",
              "    }\n",
              "  }\n",
              "</style>\n",
              "\n",
              "  <script>\n",
              "    async function quickchart(key) {\n",
              "      const quickchartButtonEl =\n",
              "        document.querySelector('#' + key + ' button');\n",
              "      quickchartButtonEl.disabled = true;  // To prevent multiple clicks.\n",
              "      quickchartButtonEl.classList.add('colab-df-spinner');\n",
              "      try {\n",
              "        const charts = await google.colab.kernel.invokeFunction(\n",
              "            'suggestCharts', [key], {});\n",
              "      } catch (error) {\n",
              "        console.error('Error during call to suggestCharts:', error);\n",
              "      }\n",
              "      quickchartButtonEl.classList.remove('colab-df-spinner');\n",
              "      quickchartButtonEl.classList.add('colab-df-quickchart-complete');\n",
              "    }\n",
              "    (() => {\n",
              "      let quickchartButtonEl =\n",
              "        document.querySelector('#df-ac64f558-8b8b-4800-895f-b3c793a433a5 button');\n",
              "      quickchartButtonEl.style.display =\n",
              "        google.colab.kernel.accessAllowed ? 'block' : 'none';\n",
              "    })();\n",
              "  </script>\n",
              "</div>\n",
              "\n",
              "    </div>\n",
              "  </div>\n"
            ],
            "application/vnd.google.colaboratory.intrinsic+json": {
              "type": "dataframe",
              "variable_name": "df",
              "summary": "{\n  \"name\": \"df\",\n  \"rows\": 24326,\n  \"fields\": [\n    {\n      \"column\": \"bedrooms\",\n      \"properties\": {\n        \"dtype\": \"number\",\n        \"std\": 1,\n        \"min\": 1,\n        \"max\": 9,\n        \"num_unique_values\": 9,\n        \"samples\": [\n          9,\n          4,\n          3\n        ],\n        \"semantic_type\": \"\",\n        \"description\": \"\"\n      }\n    },\n    {\n      \"column\": \"bathrooms\",\n      \"properties\": {\n        \"dtype\": \"number\",\n        \"std\": 1,\n        \"min\": 1,\n        \"max\": 9,\n        \"num_unique_values\": 9,\n        \"samples\": [\n          7,\n          4,\n          3\n        ],\n        \"semantic_type\": \"\",\n        \"description\": \"\"\n      }\n    },\n    {\n      \"column\": \"toilets\",\n      \"properties\": {\n        \"dtype\": \"number\",\n        \"std\": 1,\n        \"min\": 1,\n        \"max\": 9,\n        \"num_unique_values\": 9,\n        \"samples\": [\n          2,\n          6,\n          4\n        ],\n        \"semantic_type\": \"\",\n        \"description\": \"\"\n      }\n    },\n    {\n      \"column\": \"parking_space\",\n      \"properties\": {\n        \"dtype\": \"number\",\n        \"std\": 1,\n        \"min\": 1,\n        \"max\": 9,\n        \"num_unique_values\": 9,\n        \"samples\": [\n          7,\n          6,\n          3\n        ],\n        \"semantic_type\": \"\",\n        \"description\": \"\"\n      }\n    },\n    {\n      \"column\": \"title\",\n      \"properties\": {\n        \"dtype\": \"category\",\n        \"num_unique_values\": 7,\n        \"samples\": [\n          \"Detached Duplex\",\n          \"Terraced Duplexes\",\n          \"Semi Detached Bungalow\"\n        ],\n        \"semantic_type\": \"\",\n        \"description\": \"\"\n      }\n    },\n    {\n      \"column\": \"town\",\n      \"properties\": {\n        \"dtype\": \"category\",\n        \"num_unique_values\": 189,\n        \"samples\": [\n          \"Ughelli North\",\n          \"Jos North\",\n          \"Yaba\"\n        ],\n        \"semantic_type\": \"\",\n        \"description\": \"\"\n      }\n    },\n    {\n      \"column\": \"state\",\n      \"properties\": {\n        \"dtype\": \"category\",\n        \"num_unique_values\": 25,\n        \"samples\": [\n          \"Enugu\",\n          \"Ekiti\",\n          \"Abuja\"\n        ],\n        \"semantic_type\": \"\",\n        \"description\": \"\"\n      }\n    },\n    {\n      \"column\": \"price\",\n      \"properties\": {\n        \"dtype\": \"number\",\n        \"std\": 12204027269,\n        \"min\": 90000,\n        \"max\": 1800000000000,\n        \"num_unique_values\": 539,\n        \"samples\": [\n          199900000,\n          190000000,\n          65500000\n        ],\n        \"semantic_type\": \"\",\n        \"description\": \"\"\n      }\n    }\n  ]\n}"
            }
          },
          "metadata": {},
          "execution_count": 2
        }
      ]
    },
    {
      "cell_type": "markdown",
      "metadata": {
        "id": "bgZkbJLpK9UR"
      },
      "source": [
        "# **4. Exploratory Data Analysis (EDA)**\n",
        "\n",
        "Pada tahap ini, Anda akan melakukan **Exploratory Data Analysis (EDA)** untuk memahami karakteristik dataset. EDA bertujuan untuk:\n",
        "\n",
        "1. **Memahami Struktur Data**\n",
        "   - Tinjau jumlah baris dan kolom dalam dataset.  \n",
        "   - Tinjau jenis data di setiap kolom (numerikal atau kategorikal).\n",
        "\n",
        "2. **Menangani Data yang Hilang**  \n",
        "   - Identifikasi dan analisis data yang hilang (*missing values*). Tentukan langkah-langkah yang diperlukan untuk menangani data yang hilang, seperti pengisian atau penghapusan data tersebut.\n",
        "\n",
        "3. **Analisis Distribusi dan Korelasi**  \n",
        "   - Analisis distribusi variabel numerik dengan statistik deskriptif dan visualisasi seperti histogram atau boxplot.  \n",
        "   - Periksa hubungan antara variabel menggunakan matriks korelasi atau scatter plot.\n",
        "\n",
        "4. **Visualisasi Data**  \n",
        "   - Buat visualisasi dasar seperti grafik distribusi dan diagram batang untuk variabel kategorikal.  \n",
        "   - Gunakan heatmap atau pairplot untuk menganalisis korelasi antar variabel.\n",
        "\n",
        "Tujuan dari EDA adalah untuk memperoleh wawasan awal yang mendalam mengenai data dan menentukan langkah selanjutnya dalam analisis atau pemodelan."
      ]
    },
    {
      "cell_type": "code",
      "execution_count": 3,
      "metadata": {
        "id": "dKeejtvxM6X1",
        "colab": {
          "base_uri": "https://localhost:8080/"
        },
        "outputId": "318d5102-591e-4dfa-de41-cb46eefe43d5"
      },
      "outputs": [
        {
          "output_type": "stream",
          "name": "stdout",
          "text": [
            "<class 'pandas.core.frame.DataFrame'>\n",
            "RangeIndex: 24326 entries, 0 to 24325\n",
            "Data columns (total 8 columns):\n",
            " #   Column         Non-Null Count  Dtype \n",
            "---  ------         --------------  ----- \n",
            " 0   bedrooms       24326 non-null  int64 \n",
            " 1   bathrooms      24326 non-null  int64 \n",
            " 2   toilets        24326 non-null  int64 \n",
            " 3   parking_space  24326 non-null  int64 \n",
            " 4   title          24326 non-null  object\n",
            " 5   town           24326 non-null  object\n",
            " 6   state          24326 non-null  object\n",
            " 7   price          24326 non-null  int64 \n",
            "dtypes: int64(5), object(3)\n",
            "memory usage: 1.5+ MB\n"
          ]
        }
      ],
      "source": [
        "df.info()"
      ]
    },
    {
      "cell_type": "code",
      "source": [
        "df.describe()"
      ],
      "metadata": {
        "id": "Duenht2NxVNg",
        "colab": {
          "base_uri": "https://localhost:8080/",
          "height": 300
        },
        "outputId": "e7642145-de7c-42ef-df0e-ab6fba4b95e2"
      },
      "execution_count": 4,
      "outputs": [
        {
          "output_type": "execute_result",
          "data": {
            "text/plain": [
              "           bedrooms     bathrooms       toilets  parking_space         price\n",
              "count  24326.000000  24326.000000  24326.000000   24326.000000  2.432600e+04\n",
              "mean       4.338814      4.600798      5.176355       4.041725  3.013802e+08\n",
              "std        1.138497      1.163161      1.226253       1.399936  1.220403e+10\n",
              "min        1.000000      1.000000      1.000000       1.000000  9.000000e+04\n",
              "25%        4.000000      4.000000      5.000000       4.000000  5.200000e+07\n",
              "50%        4.000000      5.000000      5.000000       4.000000  8.500000e+07\n",
              "75%        5.000000      5.000000      6.000000       4.000000  1.600000e+08\n",
              "max        9.000000      9.000000      9.000000       9.000000  1.800000e+12"
            ],
            "text/html": [
              "\n",
              "  <div id=\"df-c9ae4426-5c70-4a40-8cb3-b340fe40bd11\" class=\"colab-df-container\">\n",
              "    <div>\n",
              "<style scoped>\n",
              "    .dataframe tbody tr th:only-of-type {\n",
              "        vertical-align: middle;\n",
              "    }\n",
              "\n",
              "    .dataframe tbody tr th {\n",
              "        vertical-align: top;\n",
              "    }\n",
              "\n",
              "    .dataframe thead th {\n",
              "        text-align: right;\n",
              "    }\n",
              "</style>\n",
              "<table border=\"1\" class=\"dataframe\">\n",
              "  <thead>\n",
              "    <tr style=\"text-align: right;\">\n",
              "      <th></th>\n",
              "      <th>bedrooms</th>\n",
              "      <th>bathrooms</th>\n",
              "      <th>toilets</th>\n",
              "      <th>parking_space</th>\n",
              "      <th>price</th>\n",
              "    </tr>\n",
              "  </thead>\n",
              "  <tbody>\n",
              "    <tr>\n",
              "      <th>count</th>\n",
              "      <td>24326.000000</td>\n",
              "      <td>24326.000000</td>\n",
              "      <td>24326.000000</td>\n",
              "      <td>24326.000000</td>\n",
              "      <td>2.432600e+04</td>\n",
              "    </tr>\n",
              "    <tr>\n",
              "      <th>mean</th>\n",
              "      <td>4.338814</td>\n",
              "      <td>4.600798</td>\n",
              "      <td>5.176355</td>\n",
              "      <td>4.041725</td>\n",
              "      <td>3.013802e+08</td>\n",
              "    </tr>\n",
              "    <tr>\n",
              "      <th>std</th>\n",
              "      <td>1.138497</td>\n",
              "      <td>1.163161</td>\n",
              "      <td>1.226253</td>\n",
              "      <td>1.399936</td>\n",
              "      <td>1.220403e+10</td>\n",
              "    </tr>\n",
              "    <tr>\n",
              "      <th>min</th>\n",
              "      <td>1.000000</td>\n",
              "      <td>1.000000</td>\n",
              "      <td>1.000000</td>\n",
              "      <td>1.000000</td>\n",
              "      <td>9.000000e+04</td>\n",
              "    </tr>\n",
              "    <tr>\n",
              "      <th>25%</th>\n",
              "      <td>4.000000</td>\n",
              "      <td>4.000000</td>\n",
              "      <td>5.000000</td>\n",
              "      <td>4.000000</td>\n",
              "      <td>5.200000e+07</td>\n",
              "    </tr>\n",
              "    <tr>\n",
              "      <th>50%</th>\n",
              "      <td>4.000000</td>\n",
              "      <td>5.000000</td>\n",
              "      <td>5.000000</td>\n",
              "      <td>4.000000</td>\n",
              "      <td>8.500000e+07</td>\n",
              "    </tr>\n",
              "    <tr>\n",
              "      <th>75%</th>\n",
              "      <td>5.000000</td>\n",
              "      <td>5.000000</td>\n",
              "      <td>6.000000</td>\n",
              "      <td>4.000000</td>\n",
              "      <td>1.600000e+08</td>\n",
              "    </tr>\n",
              "    <tr>\n",
              "      <th>max</th>\n",
              "      <td>9.000000</td>\n",
              "      <td>9.000000</td>\n",
              "      <td>9.000000</td>\n",
              "      <td>9.000000</td>\n",
              "      <td>1.800000e+12</td>\n",
              "    </tr>\n",
              "  </tbody>\n",
              "</table>\n",
              "</div>\n",
              "    <div class=\"colab-df-buttons\">\n",
              "\n",
              "  <div class=\"colab-df-container\">\n",
              "    <button class=\"colab-df-convert\" onclick=\"convertToInteractive('df-c9ae4426-5c70-4a40-8cb3-b340fe40bd11')\"\n",
              "            title=\"Convert this dataframe to an interactive table.\"\n",
              "            style=\"display:none;\">\n",
              "\n",
              "  <svg xmlns=\"http://www.w3.org/2000/svg\" height=\"24px\" viewBox=\"0 -960 960 960\">\n",
              "    <path d=\"M120-120v-720h720v720H120Zm60-500h600v-160H180v160Zm220 220h160v-160H400v160Zm0 220h160v-160H400v160ZM180-400h160v-160H180v160Zm440 0h160v-160H620v160ZM180-180h160v-160H180v160Zm440 0h160v-160H620v160Z\"/>\n",
              "  </svg>\n",
              "    </button>\n",
              "\n",
              "  <style>\n",
              "    .colab-df-container {\n",
              "      display:flex;\n",
              "      gap: 12px;\n",
              "    }\n",
              "\n",
              "    .colab-df-convert {\n",
              "      background-color: #E8F0FE;\n",
              "      border: none;\n",
              "      border-radius: 50%;\n",
              "      cursor: pointer;\n",
              "      display: none;\n",
              "      fill: #1967D2;\n",
              "      height: 32px;\n",
              "      padding: 0 0 0 0;\n",
              "      width: 32px;\n",
              "    }\n",
              "\n",
              "    .colab-df-convert:hover {\n",
              "      background-color: #E2EBFA;\n",
              "      box-shadow: 0px 1px 2px rgba(60, 64, 67, 0.3), 0px 1px 3px 1px rgba(60, 64, 67, 0.15);\n",
              "      fill: #174EA6;\n",
              "    }\n",
              "\n",
              "    .colab-df-buttons div {\n",
              "      margin-bottom: 4px;\n",
              "    }\n",
              "\n",
              "    [theme=dark] .colab-df-convert {\n",
              "      background-color: #3B4455;\n",
              "      fill: #D2E3FC;\n",
              "    }\n",
              "\n",
              "    [theme=dark] .colab-df-convert:hover {\n",
              "      background-color: #434B5C;\n",
              "      box-shadow: 0px 1px 3px 1px rgba(0, 0, 0, 0.15);\n",
              "      filter: drop-shadow(0px 1px 2px rgba(0, 0, 0, 0.3));\n",
              "      fill: #FFFFFF;\n",
              "    }\n",
              "  </style>\n",
              "\n",
              "    <script>\n",
              "      const buttonEl =\n",
              "        document.querySelector('#df-c9ae4426-5c70-4a40-8cb3-b340fe40bd11 button.colab-df-convert');\n",
              "      buttonEl.style.display =\n",
              "        google.colab.kernel.accessAllowed ? 'block' : 'none';\n",
              "\n",
              "      async function convertToInteractive(key) {\n",
              "        const element = document.querySelector('#df-c9ae4426-5c70-4a40-8cb3-b340fe40bd11');\n",
              "        const dataTable =\n",
              "          await google.colab.kernel.invokeFunction('convertToInteractive',\n",
              "                                                    [key], {});\n",
              "        if (!dataTable) return;\n",
              "\n",
              "        const docLinkHtml = 'Like what you see? Visit the ' +\n",
              "          '<a target=\"_blank\" href=https://colab.research.google.com/notebooks/data_table.ipynb>data table notebook</a>'\n",
              "          + ' to learn more about interactive tables.';\n",
              "        element.innerHTML = '';\n",
              "        dataTable['output_type'] = 'display_data';\n",
              "        await google.colab.output.renderOutput(dataTable, element);\n",
              "        const docLink = document.createElement('div');\n",
              "        docLink.innerHTML = docLinkHtml;\n",
              "        element.appendChild(docLink);\n",
              "      }\n",
              "    </script>\n",
              "  </div>\n",
              "\n",
              "\n",
              "<div id=\"df-0d5a2353-66f9-442f-b0d2-ac0958fb016c\">\n",
              "  <button class=\"colab-df-quickchart\" onclick=\"quickchart('df-0d5a2353-66f9-442f-b0d2-ac0958fb016c')\"\n",
              "            title=\"Suggest charts\"\n",
              "            style=\"display:none;\">\n",
              "\n",
              "<svg xmlns=\"http://www.w3.org/2000/svg\" height=\"24px\"viewBox=\"0 0 24 24\"\n",
              "     width=\"24px\">\n",
              "    <g>\n",
              "        <path d=\"M19 3H5c-1.1 0-2 .9-2 2v14c0 1.1.9 2 2 2h14c1.1 0 2-.9 2-2V5c0-1.1-.9-2-2-2zM9 17H7v-7h2v7zm4 0h-2V7h2v10zm4 0h-2v-4h2v4z\"/>\n",
              "    </g>\n",
              "</svg>\n",
              "  </button>\n",
              "\n",
              "<style>\n",
              "  .colab-df-quickchart {\n",
              "      --bg-color: #E8F0FE;\n",
              "      --fill-color: #1967D2;\n",
              "      --hover-bg-color: #E2EBFA;\n",
              "      --hover-fill-color: #174EA6;\n",
              "      --disabled-fill-color: #AAA;\n",
              "      --disabled-bg-color: #DDD;\n",
              "  }\n",
              "\n",
              "  [theme=dark] .colab-df-quickchart {\n",
              "      --bg-color: #3B4455;\n",
              "      --fill-color: #D2E3FC;\n",
              "      --hover-bg-color: #434B5C;\n",
              "      --hover-fill-color: #FFFFFF;\n",
              "      --disabled-bg-color: #3B4455;\n",
              "      --disabled-fill-color: #666;\n",
              "  }\n",
              "\n",
              "  .colab-df-quickchart {\n",
              "    background-color: var(--bg-color);\n",
              "    border: none;\n",
              "    border-radius: 50%;\n",
              "    cursor: pointer;\n",
              "    display: none;\n",
              "    fill: var(--fill-color);\n",
              "    height: 32px;\n",
              "    padding: 0;\n",
              "    width: 32px;\n",
              "  }\n",
              "\n",
              "  .colab-df-quickchart:hover {\n",
              "    background-color: var(--hover-bg-color);\n",
              "    box-shadow: 0 1px 2px rgba(60, 64, 67, 0.3), 0 1px 3px 1px rgba(60, 64, 67, 0.15);\n",
              "    fill: var(--button-hover-fill-color);\n",
              "  }\n",
              "\n",
              "  .colab-df-quickchart-complete:disabled,\n",
              "  .colab-df-quickchart-complete:disabled:hover {\n",
              "    background-color: var(--disabled-bg-color);\n",
              "    fill: var(--disabled-fill-color);\n",
              "    box-shadow: none;\n",
              "  }\n",
              "\n",
              "  .colab-df-spinner {\n",
              "    border: 2px solid var(--fill-color);\n",
              "    border-color: transparent;\n",
              "    border-bottom-color: var(--fill-color);\n",
              "    animation:\n",
              "      spin 1s steps(1) infinite;\n",
              "  }\n",
              "\n",
              "  @keyframes spin {\n",
              "    0% {\n",
              "      border-color: transparent;\n",
              "      border-bottom-color: var(--fill-color);\n",
              "      border-left-color: var(--fill-color);\n",
              "    }\n",
              "    20% {\n",
              "      border-color: transparent;\n",
              "      border-left-color: var(--fill-color);\n",
              "      border-top-color: var(--fill-color);\n",
              "    }\n",
              "    30% {\n",
              "      border-color: transparent;\n",
              "      border-left-color: var(--fill-color);\n",
              "      border-top-color: var(--fill-color);\n",
              "      border-right-color: var(--fill-color);\n",
              "    }\n",
              "    40% {\n",
              "      border-color: transparent;\n",
              "      border-right-color: var(--fill-color);\n",
              "      border-top-color: var(--fill-color);\n",
              "    }\n",
              "    60% {\n",
              "      border-color: transparent;\n",
              "      border-right-color: var(--fill-color);\n",
              "    }\n",
              "    80% {\n",
              "      border-color: transparent;\n",
              "      border-right-color: var(--fill-color);\n",
              "      border-bottom-color: var(--fill-color);\n",
              "    }\n",
              "    90% {\n",
              "      border-color: transparent;\n",
              "      border-bottom-color: var(--fill-color);\n",
              "    }\n",
              "  }\n",
              "</style>\n",
              "\n",
              "  <script>\n",
              "    async function quickchart(key) {\n",
              "      const quickchartButtonEl =\n",
              "        document.querySelector('#' + key + ' button');\n",
              "      quickchartButtonEl.disabled = true;  // To prevent multiple clicks.\n",
              "      quickchartButtonEl.classList.add('colab-df-spinner');\n",
              "      try {\n",
              "        const charts = await google.colab.kernel.invokeFunction(\n",
              "            'suggestCharts', [key], {});\n",
              "      } catch (error) {\n",
              "        console.error('Error during call to suggestCharts:', error);\n",
              "      }\n",
              "      quickchartButtonEl.classList.remove('colab-df-spinner');\n",
              "      quickchartButtonEl.classList.add('colab-df-quickchart-complete');\n",
              "    }\n",
              "    (() => {\n",
              "      let quickchartButtonEl =\n",
              "        document.querySelector('#df-0d5a2353-66f9-442f-b0d2-ac0958fb016c button');\n",
              "      quickchartButtonEl.style.display =\n",
              "        google.colab.kernel.accessAllowed ? 'block' : 'none';\n",
              "    })();\n",
              "  </script>\n",
              "</div>\n",
              "\n",
              "    </div>\n",
              "  </div>\n"
            ],
            "application/vnd.google.colaboratory.intrinsic+json": {
              "type": "dataframe",
              "summary": "{\n  \"name\": \"df\",\n  \"rows\": 8,\n  \"fields\": [\n    {\n      \"column\": \"bedrooms\",\n      \"properties\": {\n        \"dtype\": \"number\",\n        \"std\": 8599.101817545894,\n        \"min\": 1.0,\n        \"max\": 24326.0,\n        \"num_unique_values\": 7,\n        \"samples\": [\n          24326.0,\n          4.338814437227658,\n          5.0\n        ],\n        \"semantic_type\": \"\",\n        \"description\": \"\"\n      }\n    },\n    {\n      \"column\": \"bathrooms\",\n      \"properties\": {\n        \"dtype\": \"number\",\n        \"std\": 8599.036837848218,\n        \"min\": 1.0,\n        \"max\": 24326.0,\n        \"num_unique_values\": 7,\n        \"samples\": [\n          24326.0,\n          4.600797500616625,\n          5.0\n        ],\n        \"semantic_type\": \"\",\n        \"description\": \"\"\n      }\n    },\n    {\n      \"column\": \"toilets\",\n      \"properties\": {\n        \"dtype\": \"number\",\n        \"std\": 8598.903585401229,\n        \"min\": 1.0,\n        \"max\": 24326.0,\n        \"num_unique_values\": 7,\n        \"samples\": [\n          24326.0,\n          5.176354517799885,\n          6.0\n        ],\n        \"semantic_type\": \"\",\n        \"description\": \"\"\n      }\n    },\n    {\n      \"column\": \"parking_space\",\n      \"properties\": {\n        \"dtype\": \"number\",\n        \"std\": 8599.154104605319,\n        \"min\": 1.0,\n        \"max\": 24326.0,\n        \"num_unique_values\": 6,\n        \"samples\": [\n          24326.0,\n          4.041724903395544,\n          9.0\n        ],\n        \"semantic_type\": \"\",\n        \"description\": \"\"\n      }\n    },\n    {\n      \"column\": \"price\",\n      \"properties\": {\n        \"dtype\": \"number\",\n        \"std\": 635763595074.9448,\n        \"min\": 24326.0,\n        \"max\": 1800000000000.0,\n        \"num_unique_values\": 8,\n        \"samples\": [\n          301380208.47241634,\n          85000000.0,\n          24326.0\n        ],\n        \"semantic_type\": \"\",\n        \"description\": \"\"\n      }\n    }\n  ]\n}"
            }
          },
          "metadata": {},
          "execution_count": 4
        }
      ]
    },
    {
      "cell_type": "code",
      "source": [
        "df.isnull().sum()"
      ],
      "metadata": {
        "id": "y7H8Z1e9xWfL",
        "colab": {
          "base_uri": "https://localhost:8080/",
          "height": 335
        },
        "outputId": "beacb3eb-3927-41ac-f733-b4e3dbcb8553"
      },
      "execution_count": 5,
      "outputs": [
        {
          "output_type": "execute_result",
          "data": {
            "text/plain": [
              "bedrooms         0\n",
              "bathrooms        0\n",
              "toilets          0\n",
              "parking_space    0\n",
              "title            0\n",
              "town             0\n",
              "state            0\n",
              "price            0\n",
              "dtype: int64"
            ],
            "text/html": [
              "<div>\n",
              "<style scoped>\n",
              "    .dataframe tbody tr th:only-of-type {\n",
              "        vertical-align: middle;\n",
              "    }\n",
              "\n",
              "    .dataframe tbody tr th {\n",
              "        vertical-align: top;\n",
              "    }\n",
              "\n",
              "    .dataframe thead th {\n",
              "        text-align: right;\n",
              "    }\n",
              "</style>\n",
              "<table border=\"1\" class=\"dataframe\">\n",
              "  <thead>\n",
              "    <tr style=\"text-align: right;\">\n",
              "      <th></th>\n",
              "      <th>0</th>\n",
              "    </tr>\n",
              "  </thead>\n",
              "  <tbody>\n",
              "    <tr>\n",
              "      <th>bedrooms</th>\n",
              "      <td>0</td>\n",
              "    </tr>\n",
              "    <tr>\n",
              "      <th>bathrooms</th>\n",
              "      <td>0</td>\n",
              "    </tr>\n",
              "    <tr>\n",
              "      <th>toilets</th>\n",
              "      <td>0</td>\n",
              "    </tr>\n",
              "    <tr>\n",
              "      <th>parking_space</th>\n",
              "      <td>0</td>\n",
              "    </tr>\n",
              "    <tr>\n",
              "      <th>title</th>\n",
              "      <td>0</td>\n",
              "    </tr>\n",
              "    <tr>\n",
              "      <th>town</th>\n",
              "      <td>0</td>\n",
              "    </tr>\n",
              "    <tr>\n",
              "      <th>state</th>\n",
              "      <td>0</td>\n",
              "    </tr>\n",
              "    <tr>\n",
              "      <th>price</th>\n",
              "      <td>0</td>\n",
              "    </tr>\n",
              "  </tbody>\n",
              "</table>\n",
              "</div><br><label><b>dtype:</b> int64</label>"
            ]
          },
          "metadata": {},
          "execution_count": 5
        }
      ]
    },
    {
      "cell_type": "code",
      "source": [
        "missing_values = df.isnull().sum()\n",
        "missing_values[missing_values > 0]"
      ],
      "metadata": {
        "id": "5OLBigutxXc3",
        "colab": {
          "base_uri": "https://localhost:8080/",
          "height": 84
        },
        "outputId": "a95a1f19-a38d-4ea4-a9ae-55146836065d"
      },
      "execution_count": 6,
      "outputs": [
        {
          "output_type": "execute_result",
          "data": {
            "text/plain": [
              "Series([], dtype: int64)"
            ],
            "text/html": [
              "<div>\n",
              "<style scoped>\n",
              "    .dataframe tbody tr th:only-of-type {\n",
              "        vertical-align: middle;\n",
              "    }\n",
              "\n",
              "    .dataframe tbody tr th {\n",
              "        vertical-align: top;\n",
              "    }\n",
              "\n",
              "    .dataframe thead th {\n",
              "        text-align: right;\n",
              "    }\n",
              "</style>\n",
              "<table border=\"1\" class=\"dataframe\">\n",
              "  <thead>\n",
              "    <tr style=\"text-align: right;\">\n",
              "      <th></th>\n",
              "      <th>0</th>\n",
              "    </tr>\n",
              "  </thead>\n",
              "  <tbody>\n",
              "  </tbody>\n",
              "</table>\n",
              "</div><br><label><b>dtype:</b> int64</label>"
            ]
          },
          "metadata": {},
          "execution_count": 6
        }
      ]
    },
    {
      "cell_type": "code",
      "source": [
        "less = missing_values[missing_values < 1000].index\n",
        "over = missing_values[missing_values >= 1000].index"
      ],
      "metadata": {
        "id": "D--fk7E_1RvS"
      },
      "execution_count": 7,
      "outputs": []
    },
    {
      "cell_type": "code",
      "source": [
        "numeric_features = df[less].select_dtypes(include=['number']).columns\n",
        "df[numeric_features] = df[numeric_features].fillna(df[numeric_features].median())"
      ],
      "metadata": {
        "id": "2Ox2h_ymx6ty"
      },
      "execution_count": 8,
      "outputs": []
    },
    {
      "cell_type": "code",
      "source": [
        "kategorical_features = df[less].select_dtypes(include=['object']).columns\n",
        "\n",
        "for column in kategorical_features:\n",
        "  df[column] = df[column].fillna(df[column].mode()[0])"
      ],
      "metadata": {
        "id": "jzu-bWllyBKG"
      },
      "execution_count": 9,
      "outputs": []
    },
    {
      "cell_type": "code",
      "source": [
        "df = df.drop(columns=over)"
      ],
      "metadata": {
        "id": "bHjIZzmJzMGF"
      },
      "execution_count": 10,
      "outputs": []
    },
    {
      "cell_type": "code",
      "source": [
        "missing_values = df.isnull().sum()\n",
        "missing_values[missing_values > 0]"
      ],
      "metadata": {
        "id": "K247GqF0yF7f",
        "colab": {
          "base_uri": "https://localhost:8080/",
          "height": 84
        },
        "outputId": "2bf7ac00-62e4-4330-8a07-fa56ff9f788d"
      },
      "execution_count": 11,
      "outputs": [
        {
          "output_type": "execute_result",
          "data": {
            "text/plain": [
              "Series([], dtype: int64)"
            ],
            "text/html": [
              "<div>\n",
              "<style scoped>\n",
              "    .dataframe tbody tr th:only-of-type {\n",
              "        vertical-align: middle;\n",
              "    }\n",
              "\n",
              "    .dataframe tbody tr th {\n",
              "        vertical-align: top;\n",
              "    }\n",
              "\n",
              "    .dataframe thead th {\n",
              "        text-align: right;\n",
              "    }\n",
              "</style>\n",
              "<table border=\"1\" class=\"dataframe\">\n",
              "  <thead>\n",
              "    <tr style=\"text-align: right;\">\n",
              "      <th></th>\n",
              "      <th>0</th>\n",
              "    </tr>\n",
              "  </thead>\n",
              "  <tbody>\n",
              "  </tbody>\n",
              "</table>\n",
              "</div><br><label><b>dtype:</b> int64</label>"
            ]
          },
          "metadata": {},
          "execution_count": 11
        }
      ]
    },
    {
      "cell_type": "code",
      "source": [
        "df.isnull().sum()"
      ],
      "metadata": {
        "id": "fRwzhIbL0LM1",
        "colab": {
          "base_uri": "https://localhost:8080/",
          "height": 335
        },
        "outputId": "cd72ffc8-2f18-4878-c684-27179ee05cd9"
      },
      "execution_count": 12,
      "outputs": [
        {
          "output_type": "execute_result",
          "data": {
            "text/plain": [
              "bedrooms         0\n",
              "bathrooms        0\n",
              "toilets          0\n",
              "parking_space    0\n",
              "title            0\n",
              "town             0\n",
              "state            0\n",
              "price            0\n",
              "dtype: int64"
            ],
            "text/html": [
              "<div>\n",
              "<style scoped>\n",
              "    .dataframe tbody tr th:only-of-type {\n",
              "        vertical-align: middle;\n",
              "    }\n",
              "\n",
              "    .dataframe tbody tr th {\n",
              "        vertical-align: top;\n",
              "    }\n",
              "\n",
              "    .dataframe thead th {\n",
              "        text-align: right;\n",
              "    }\n",
              "</style>\n",
              "<table border=\"1\" class=\"dataframe\">\n",
              "  <thead>\n",
              "    <tr style=\"text-align: right;\">\n",
              "      <th></th>\n",
              "      <th>0</th>\n",
              "    </tr>\n",
              "  </thead>\n",
              "  <tbody>\n",
              "    <tr>\n",
              "      <th>bedrooms</th>\n",
              "      <td>0</td>\n",
              "    </tr>\n",
              "    <tr>\n",
              "      <th>bathrooms</th>\n",
              "      <td>0</td>\n",
              "    </tr>\n",
              "    <tr>\n",
              "      <th>toilets</th>\n",
              "      <td>0</td>\n",
              "    </tr>\n",
              "    <tr>\n",
              "      <th>parking_space</th>\n",
              "      <td>0</td>\n",
              "    </tr>\n",
              "    <tr>\n",
              "      <th>title</th>\n",
              "      <td>0</td>\n",
              "    </tr>\n",
              "    <tr>\n",
              "      <th>town</th>\n",
              "      <td>0</td>\n",
              "    </tr>\n",
              "    <tr>\n",
              "      <th>state</th>\n",
              "      <td>0</td>\n",
              "    </tr>\n",
              "    <tr>\n",
              "      <th>price</th>\n",
              "      <td>0</td>\n",
              "    </tr>\n",
              "  </tbody>\n",
              "</table>\n",
              "</div><br><label><b>dtype:</b> int64</label>"
            ]
          },
          "metadata": {},
          "execution_count": 12
        }
      ]
    },
    {
      "cell_type": "code",
      "source": [
        "# Visualisasi Data\n",
        "correlation_matrix = df.corr(numeric_only=True)\n",
        "plt.figure(figsize=(12, 10))\n",
        "sns.heatmap(correlation_matrix, annot=True, cmap='coolwarm')\n",
        "plt.title('Correlation Matrix of Numerical Features')\n",
        "plt.show()"
      ],
      "metadata": {
        "id": "crasdqM-0bCC",
        "colab": {
          "base_uri": "https://localhost:8080/",
          "height": 851
        },
        "outputId": "65f6614f-901b-46ed-95bb-aac6a25f73cf"
      },
      "execution_count": 13,
      "outputs": [
        {
          "output_type": "display_data",
          "data": {
            "text/plain": [
              "<Figure size 1200x1000 with 2 Axes>"
            ],
            "image/png": "[encoded data removed]"
          },
          "metadata": {}
        }
      ]
    },
    {
      "cell_type": "markdown",
      "metadata": {
        "id": "cpgHfgnSK3ip"
      },
      "source": [
        "# **5. Data Preprocessing**"
      ]
    },
    {
      "cell_type": "markdown",
      "metadata": {
        "id": "COf8KUPXLg5r"
      },
      "source": [
        "Pada tahap ini, data preprocessing adalah langkah penting untuk memastikan kualitas data sebelum digunakan dalam model machine learning. Data mentah sering kali mengandung nilai kosong, duplikasi, atau rentang nilai yang tidak konsisten, yang dapat memengaruhi kinerja model. Oleh karena itu, proses ini bertujuan untuk membersihkan dan mempersiapkan data agar analisis berjalan optimal.\n",
        "\n",
        "Berikut adalah tahapan-tahapan yang bisa dilakukan, tetapi **tidak terbatas** pada:\n",
        "1. Menghapus atau Menangani Data Kosong (Missing Values)\n",
        "2. Menghapus Data Duplikat\n",
        "3. Normalisasi atau Standarisasi Fitur\n",
        "4. Deteksi dan Penanganan Outlier\n",
        "5. Encoding Data Kategorikal\n",
        "6. Binning (Pengelompokan Data)\n",
        "\n",
        "Cukup sesuaikan dengan karakteristik data yang kamu gunakan yah."
      ]
    },
    {
      "cell_type": "code",
      "source": [
        "Q1 = df[numeric_features].quantile(0.25)\n",
        "Q3 = df[numeric_features].quantile(0.75)\n",
        "IQR = Q3 - Q1"
      ],
      "metadata": {
        "id": "M0m6n9nL3yo-"
      },
      "execution_count": 14,
      "outputs": []
    },
    {
      "cell_type": "code",
      "source": [
        "condition = ~((df[numeric_features] < (Q1 - 1.5 * IQR)) | (df[numeric_features] > (Q3 + 1.5 * IQR))).any(axis=1)\n",
        "df_filtered_numeric = df.loc[condition, numeric_features]\n",
        "\n",
        "categorical_features = df.select_dtypes(include=['object']).columns\n",
        "df = pd.concat([df_filtered_numeric, df.loc[condition, categorical_features]], axis=1)"
      ],
      "metadata": {
        "id": "qj6n0SDD2vlg"
      },
      "execution_count": 15,
      "outputs": []
    },
    {
      "cell_type": "code",
      "source": [
        "duplicates = df.duplicated()\n",
        "\n",
        "print(\"Baris duplikat:\")\n",
        "print(df[duplicates])"
      ],
      "metadata": {
        "id": "gvxVao3-3Or5",
        "colab": {
          "base_uri": "https://localhost:8080/"
        },
        "outputId": "9c8688d1-d33e-41df-e4c7-0ee5d1804aac"
      },
      "execution_count": 16,
      "outputs": [
        {
          "output_type": "stream",
          "name": "stdout",
          "text": [
            "Baris duplikat:\n",
            "       bedrooms  bathrooms  toilets  parking_space      price  \\\n",
            "29            5          5        5              4  270000000   \n",
            "57            5          5        6              4  105000000   \n",
            "113           5          6        6              4  260000000   \n",
            "227           4          5        5              4   80000000   \n",
            "272           5          5        6              4  235000000   \n",
            "...         ...        ...      ...            ...        ...   \n",
            "24312         5          5        6              4  165000000   \n",
            "24314         4          4        5              4   75000000   \n",
            "24318         4          5        5              4  110000000   \n",
            "24323         4          5        5              4   68000000   \n",
            "24325         4          5        5              4   65000000   \n",
            "\n",
            "                      title    town  state  \n",
            "29          Detached Duplex   Lekki  Lagos  \n",
            "57          Detached Duplex   Lekki  Lagos  \n",
            "113         Detached Duplex   Lekki  Lagos  \n",
            "227    Semi Detached Duplex   Lekki  Lagos  \n",
            "272         Detached Duplex  Magodo  Lagos  \n",
            "...                     ...     ...    ...  \n",
            "24312       Detached Duplex   Ikeja  Lagos  \n",
            "24314       Detached Duplex    Ajah  Lagos  \n",
            "24318  Semi Detached Duplex   Lekki  Lagos  \n",
            "24323       Detached Duplex   Lekki  Lagos  \n",
            "24325       Detached Duplex   Lekki  Lagos  \n",
            "\n",
            "[5956 rows x 8 columns]\n"
          ]
        }
      ]
    },
    {
      "cell_type": "code",
      "source": [
        "category_features = df.select_dtypes(include=['object']).columns\n",
        "df[category_features]"
      ],
      "metadata": {
        "id": "prfBHXSG3O4N",
        "colab": {
          "base_uri": "https://localhost:8080/",
          "height": 423
        },
        "outputId": "f67bc9d9-6d14-45ac-ec7e-4577d12a6301"
      },
      "execution_count": 17,
      "outputs": [
        {
          "output_type": "execute_result",
          "data": {
            "text/plain": [
              "                      title               town  state\n",
              "2           Detached Duplex              Lekki  Lagos\n",
              "6           Detached Duplex              Lekki  Lagos\n",
              "10        Terraced Duplexes  Lokogoma District  Abuja\n",
              "11     Semi Detached Duplex              Oredo    Edo\n",
              "13     Semi Detached Duplex              Lekki  Lagos\n",
              "...                     ...                ...    ...\n",
              "24314       Detached Duplex               Ajah  Lagos\n",
              "24318  Semi Detached Duplex              Lekki  Lagos\n",
              "24322        Block of Flats        Ado-Odo/Ota   Ogun\n",
              "24323       Detached Duplex              Lekki  Lagos\n",
              "24325       Detached Duplex              Lekki  Lagos\n",
              "\n",
              "[10687 rows x 3 columns]"
            ],
            "text/html": [
              "\n",
              "  <div id=\"df-ccd9d405-cb27-4a6d-9790-ced213b6bbb6\" class=\"colab-df-container\">\n",
              "    <div>\n",
              "<style scoped>\n",
              "    .dataframe tbody tr th:only-of-type {\n",
              "        vertical-align: middle;\n",
              "    }\n",
              "\n",
              "    .dataframe tbody tr th {\n",
              "        vertical-align: top;\n",
              "    }\n",
              "\n",
              "    .dataframe thead th {\n",
              "        text-align: right;\n",
              "    }\n",
              "</style>\n",
              "<table border=\"1\" class=\"dataframe\">\n",
              "  <thead>\n",
              "    <tr style=\"text-align: right;\">\n",
              "      <th></th>\n",
              "      <th>title</th>\n",
              "      <th>town</th>\n",
              "      <th>state</th>\n",
              "    </tr>\n",
              "  </thead>\n",
              "  <tbody>\n",
              "    <tr>\n",
              "      <th>2</th>\n",
              "      <td>Detached Duplex</td>\n",
              "      <td>Lekki</td>\n",
              "      <td>Lagos</td>\n",
              "    </tr>\n",
              "    <tr>\n",
              "      <th>6</th>\n",
              "      <td>Detached Duplex</td>\n",
              "      <td>Lekki</td>\n",
              "      <td>Lagos</td>\n",
              "    </tr>\n",
              "    <tr>\n",
              "      <th>10</th>\n",
              "      <td>Terraced Duplexes</td>\n",
              "      <td>Lokogoma District</td>\n",
              "      <td>Abuja</td>\n",
              "    </tr>\n",
              "    <tr>\n",
              "      <th>11</th>\n",
              "      <td>Semi Detached Duplex</td>\n",
              "      <td>Oredo</td>\n",
              "      <td>Edo</td>\n",
              "    </tr>\n",
              "    <tr>\n",
              "      <th>13</th>\n",
              "      <td>Semi Detached Duplex</td>\n",
              "      <td>Lekki</td>\n",
              "      <td>Lagos</td>\n",
              "    </tr>\n",
              "    <tr>\n",
              "      <th>...</th>\n",
              "      <td>...</td>\n",
              "      <td>...</td>\n",
              "      <td>...</td>\n",
              "    </tr>\n",
              "    <tr>\n",
              "      <th>24314</th>\n",
              "      <td>Detached Duplex</td>\n",
              "      <td>Ajah</td>\n",
              "      <td>Lagos</td>\n",
              "    </tr>\n",
              "    <tr>\n",
              "      <th>24318</th>\n",
              "      <td>Semi Detached Duplex</td>\n",
              "      <td>Lekki</td>\n",
              "      <td>Lagos</td>\n",
              "    </tr>\n",
              "    <tr>\n",
              "      <th>24322</th>\n",
              "      <td>Block of Flats</td>\n",
              "      <td>Ado-Odo/Ota</td>\n",
              "      <td>Ogun</td>\n",
              "    </tr>\n",
              "    <tr>\n",
              "      <th>24323</th>\n",
              "      <td>Detached Duplex</td>\n",
              "      <td>Lekki</td>\n",
              "      <td>Lagos</td>\n",
              "    </tr>\n",
              "    <tr>\n",
              "      <th>24325</th>\n",
              "      <td>Detached Duplex</td>\n",
              "      <td>Lekki</td>\n",
              "      <td>Lagos</td>\n",
              "    </tr>\n",
              "  </tbody>\n",
              "</table>\n",
              "<p>10687 rows × 3 columns</p>\n",
              "</div>\n",
              "    <div class=\"colab-df-buttons\">\n",
              "\n",
              "  <div class=\"colab-df-container\">\n",
              "    <button class=\"colab-df-convert\" onclick=\"convertToInteractive('df-ccd9d405-cb27-4a6d-9790-ced213b6bbb6')\"\n",
              "            title=\"Convert this dataframe to an interactive table.\"\n",
              "            style=\"display:none;\">\n",
              "\n",
              "  <svg xmlns=\"http://www.w3.org/2000/svg\" height=\"24px\" viewBox=\"0 -960 960 960\">\n",
              "    <path d=\"M120-120v-720h720v720H120Zm60-500h600v-160H180v160Zm220 220h160v-160H400v160Zm0 220h160v-160H400v160ZM180-400h160v-160H180v160Zm440 0h160v-160H620v160ZM180-180h160v-160H180v160Zm440 0h160v-160H620v160Z\"/>\n",
              "  </svg>\n",
              "    </button>\n",
              "\n",
              "  <style>\n",
              "    .colab-df-container {\n",
              "      display:flex;\n",
              "      gap: 12px;\n",
              "    }\n",
              "\n",
              "    .colab-df-convert {\n",
              "      background-color: #E8F0FE;\n",
              "      border: none;\n",
              "      border-radius: 50%;\n",
              "      cursor: pointer;\n",
              "      display: none;\n",
              "      fill: #1967D2;\n",
              "      height: 32px;\n",
              "      padding: 0 0 0 0;\n",
              "      width: 32px;\n",
              "    }\n",
              "\n",
              "    .colab-df-convert:hover {\n",
              "      background-color: #E2EBFA;\n",
              "      box-shadow: 0px 1px 2px rgba(60, 64, 67, 0.3), 0px 1px 3px 1px rgba(60, 64, 67, 0.15);\n",
              "      fill: #174EA6;\n",
              "    }\n",
              "\n",
              "    .colab-df-buttons div {\n",
              "      margin-bottom: 4px;\n",
              "    }\n",
              "\n",
              "    [theme=dark] .colab-df-convert {\n",
              "      background-color: #3B4455;\n",
              "      fill: #D2E3FC;\n",
              "    }\n",
              "\n",
              "    [theme=dark] .colab-df-convert:hover {\n",
              "      background-color: #434B5C;\n",
              "      box-shadow: 0px 1px 3px 1px rgba(0, 0, 0, 0.15);\n",
              "      filter: drop-shadow(0px 1px 2px rgba(0, 0, 0, 0.3));\n",
              "      fill: #FFFFFF;\n",
              "    }\n",
              "  </style>\n",
              "\n",
              "    <script>\n",
              "      const buttonEl =\n",
              "        document.querySelector('#df-ccd9d405-cb27-4a6d-9790-ced213b6bbb6 button.colab-df-convert');\n",
              "      buttonEl.style.display =\n",
              "        google.colab.kernel.accessAllowed ? 'block' : 'none';\n",
              "\n",
              "      async function convertToInteractive(key) {\n",
              "        const element = document.querySelector('#df-ccd9d405-cb27-4a6d-9790-ced213b6bbb6');\n",
              "        const dataTable =\n",
              "          await google.colab.kernel.invokeFunction('convertToInteractive',\n",
              "                                                    [key], {});\n",
              "        if (!dataTable) return;\n",
              "\n",
              "        const docLinkHtml = 'Like what you see? Visit the ' +\n",
              "          '<a target=\"_blank\" href=https://colab.research.google.com/notebooks/data_table.ipynb>data table notebook</a>'\n",
              "          + ' to learn more about interactive tables.';\n",
              "        element.innerHTML = '';\n",
              "        dataTable['output_type'] = 'display_data';\n",
              "        await google.colab.output.renderOutput(dataTable, element);\n",
              "        const docLink = document.createElement('div');\n",
              "        docLink.innerHTML = docLinkHtml;\n",
              "        element.appendChild(docLink);\n",
              "      }\n",
              "    </script>\n",
              "  </div>\n",
              "\n",
              "\n",
              "<div id=\"df-6c92b135-74df-40b8-a19d-7a75beade4eb\">\n",
              "  <button class=\"colab-df-quickchart\" onclick=\"quickchart('df-6c92b135-74df-40b8-a19d-7a75beade4eb')\"\n",
              "            title=\"Suggest charts\"\n",
              "            style=\"display:none;\">\n",
              "\n",
              "<svg xmlns=\"http://www.w3.org/2000/svg\" height=\"24px\"viewBox=\"0 0 24 24\"\n",
              "     width=\"24px\">\n",
              "    <g>\n",
              "        <path d=\"M19 3H5c-1.1 0-2 .9-2 2v14c0 1.1.9 2 2 2h14c1.1 0 2-.9 2-2V5c0-1.1-.9-2-2-2zM9 17H7v-7h2v7zm4 0h-2V7h2v10zm4 0h-2v-4h2v4z\"/>\n",
              "    </g>\n",
              "</svg>\n",
              "  </button>\n",
              "\n",
              "<style>\n",
              "  .colab-df-quickchart {\n",
              "      --bg-color: #E8F0FE;\n",
              "      --fill-color: #1967D2;\n",
              "      --hover-bg-color: #E2EBFA;\n",
              "      --hover-fill-color: #174EA6;\n",
              "      --disabled-fill-color: #AAA;\n",
              "      --disabled-bg-color: #DDD;\n",
              "  }\n",
              "\n",
              "  [theme=dark] .colab-df-quickchart {\n",
              "      --bg-color: #3B4455;\n",
              "      --fill-color: #D2E3FC;\n",
              "      --hover-bg-color: #434B5C;\n",
              "      --hover-fill-color: #FFFFFF;\n",
              "      --disabled-bg-color: #3B4455;\n",
              "      --disabled-fill-color: #666;\n",
              "  }\n",
              "\n",
              "  .colab-df-quickchart {\n",
              "    background-color: var(--bg-color);\n",
              "    border: none;\n",
              "    border-radius: 50%;\n",
              "    cursor: pointer;\n",
              "    display: none;\n",
              "    fill: var(--fill-color);\n",
              "    height: 32px;\n",
              "    padding: 0;\n",
              "    width: 32px;\n",
              "  }\n",
              "\n",
              "  .colab-df-quickchart:hover {\n",
              "    background-color: var(--hover-bg-color);\n",
              "    box-shadow: 0 1px 2px rgba(60, 64, 67, 0.3), 0 1px 3px 1px rgba(60, 64, 67, 0.15);\n",
              "    fill: var(--button-hover-fill-color);\n",
              "  }\n",
              "\n",
              "  .colab-df-quickchart-complete:disabled,\n",
              "  .colab-df-quickchart-complete:disabled:hover {\n",
              "    background-color: var(--disabled-bg-color);\n",
              "    fill: var(--disabled-fill-color);\n",
              "    box-shadow: none;\n",
              "  }\n",
              "\n",
              "  .colab-df-spinner {\n",
              "    border: 2px solid var(--fill-color);\n",
              "    border-color: transparent;\n",
              "    border-bottom-color: var(--fill-color);\n",
              "    animation:\n",
              "      spin 1s steps(1) infinite;\n",
              "  }\n",
              "\n",
              "  @keyframes spin {\n",
              "    0% {\n",
              "      border-color: transparent;\n",
              "      border-bottom-color: var(--fill-color);\n",
              "      border-left-color: var(--fill-color);\n",
              "    }\n",
              "    20% {\n",
              "      border-color: transparent;\n",
              "      border-left-color: var(--fill-color);\n",
              "      border-top-color: var(--fill-color);\n",
              "    }\n",
              "    30% {\n",
              "      border-color: transparent;\n",
              "      border-left-color: var(--fill-color);\n",
              "      border-top-color: var(--fill-color);\n",
              "      border-right-color: var(--fill-color);\n",
              "    }\n",
              "    40% {\n",
              "      border-color: transparent;\n",
              "      border-right-color: var(--fill-color);\n",
              "      border-top-color: var(--fill-color);\n",
              "    }\n",
              "    60% {\n",
              "      border-color: transparent;\n",
              "      border-right-color: var(--fill-color);\n",
              "    }\n",
              "    80% {\n",
              "      border-color: transparent;\n",
              "      border-right-color: var(--fill-color);\n",
              "      border-bottom-color: var(--fill-color);\n",
              "    }\n",
              "    90% {\n",
              "      border-color: transparent;\n",
              "      border-bottom-color: var(--fill-color);\n",
              "    }\n",
              "  }\n",
              "</style>\n",
              "\n",
              "  <script>\n",
              "    async function quickchart(key) {\n",
              "      const quickchartButtonEl =\n",
              "        document.querySelector('#' + key + ' button');\n",
              "      quickchartButtonEl.disabled = true;  // To prevent multiple clicks.\n",
              "      quickchartButtonEl.classList.add('colab-df-spinner');\n",
              "      try {\n",
              "        const charts = await google.colab.kernel.invokeFunction(\n",
              "            'suggestCharts', [key], {});\n",
              "      } catch (error) {\n",
              "        console.error('Error during call to suggestCharts:', error);\n",
              "      }\n",
              "      quickchartButtonEl.classList.remove('colab-df-spinner');\n",
              "      quickchartButtonEl.classList.add('colab-df-quickchart-complete');\n",
              "    }\n",
              "    (() => {\n",
              "      let quickchartButtonEl =\n",
              "        document.querySelector('#df-6c92b135-74df-40b8-a19d-7a75beade4eb button');\n",
              "      quickchartButtonEl.style.display =\n",
              "        google.colab.kernel.accessAllowed ? 'block' : 'none';\n",
              "    })();\n",
              "  </script>\n",
              "</div>\n",
              "\n",
              "    </div>\n",
              "  </div>\n"
            ],
            "application/vnd.google.colaboratory.intrinsic+json": {
              "type": "dataframe",
              "summary": "{\n  \"name\": \"df[category_features]\",\n  \"rows\": 10687,\n  \"fields\": [\n    {\n      \"column\": \"title\",\n      \"properties\": {\n        \"dtype\": \"category\",\n        \"num_unique_values\": 7,\n        \"samples\": [\n          \"Detached Duplex\",\n          \"Terraced Duplexes\",\n          \"Semi Detached Bungalow\"\n        ],\n        \"semantic_type\": \"\",\n        \"description\": \"\"\n      }\n    },\n    {\n      \"column\": \"town\",\n      \"properties\": {\n        \"dtype\": \"category\",\n        \"num_unique_values\": 153,\n        \"samples\": [\n          \"Amuwo Odofin\",\n          \"Ketu\",\n          \"Ojo\"\n        ],\n        \"semantic_type\": \"\",\n        \"description\": \"\"\n      }\n    },\n    {\n      \"column\": \"state\",\n      \"properties\": {\n        \"dtype\": \"category\",\n        \"num_unique_values\": 22,\n        \"samples\": [\n          \"Lagos\",\n          \"Osun\",\n          \"Oyo\"\n        ],\n        \"semantic_type\": \"\",\n        \"description\": \"\"\n      }\n    }\n  ]\n}"
            }
          },
          "metadata": {},
          "execution_count": 17
        }
      ]
    },
    {
      "cell_type": "code",
      "source": [
        "# Inisialisasi LabelEncoder\n",
        "label_encoder = LabelEncoder()\n",
        "df_lencoder = pd.DataFrame(df)\n",
        "\n",
        "for col in category_features:\n",
        "    df_lencoder[col] = label_encoder.fit_transform(df[col])\n",
        "\n",
        "# Menampilkan hasil\n",
        "df_lencoder\n",
        "\n",
        "# Membuat salinan dari DataFrame asli\n",
        "df_lencoder = df.copy()\n",
        "\n",
        "# Simpan mapping untuk reverse encoding\n",
        "label_mappings = {}\n",
        "for col in category_features:\n",
        "    df_lencoder[col] = label_encoder.fit_transform(df[col].astype(str))\n",
        "    label_mappings[col] = dict(zip(label_encoder.transform(label_encoder.classes_), label_encoder.classes_))"
      ],
      "metadata": {
        "id": "-ooMmtjM3tAK"
      },
      "execution_count": 18,
      "outputs": []
    },
    {
      "cell_type": "code",
      "source": [
        "# Mengambil kolom bedrooms, bathrooms, price, title, state\n",
        "X = df_lencoder.iloc[:, [0, 1, 4, 5, 7]].values\n",
        "\n",
        "# Menampilkan data yang diambil dalam format DataFrame dengan nama kolom yang sesuai\n",
        "print(pd.DataFrame(X, columns=['bedrooms', 'bathrooms', 'price', 'title', 'state']))"
      ],
      "metadata": {
        "id": "aZUrp7Q43aw1",
        "colab": {
          "base_uri": "https://localhost:8080/"
        },
        "outputId": "76546235-94e4-4dbc-9917-6dbff3b7cb18"
      },
      "execution_count": 19,
      "outputs": [
        {
          "output_type": "stream",
          "name": "stdout",
          "text": [
            "       bedrooms  bathrooms      price  title  state\n",
            "0             4          5  120000000      2     16\n",
            "1             4          5   65000000      2     16\n",
            "2             3          4   25000000      6      1\n",
            "3             6          6   45000000      4      8\n",
            "4             4          4   70000000      4     16\n",
            "...         ...        ...        ...    ...    ...\n",
            "10682         4          4   75000000      2     16\n",
            "10683         4          5  110000000      4     16\n",
            "10684         4          5   25000000      0     18\n",
            "10685         4          5   68000000      2     16\n",
            "10686         4          5   65000000      2     16\n",
            "\n",
            "[10687 rows x 5 columns]\n"
          ]
        }
      ]
    },
    {
      "cell_type": "markdown",
      "metadata": {
        "id": "BR73dCnrLEiq"
      },
      "source": [
        "# **6. Pembangunan Model Clustering**"
      ]
    },
    {
      "cell_type": "markdown",
      "metadata": {
        "id": "Fkd_QHXWMBDr"
      },
      "source": [
        "## **a. Pembangunan Model Clustering**"
      ]
    },
    {
      "cell_type": "markdown",
      "metadata": {
        "id": "Kn6Y2qbqMVLP"
      },
      "source": [
        "Pada tahap ini, Anda membangun model clustering dengan memilih algoritma yang sesuai untuk mengelompokkan data berdasarkan kesamaan. Berikut adalah **rekomendasi** tahapannya.\n",
        "1. Pilih algoritma clustering yang sesuai.\n",
        "2. Latih model dengan data menggunakan algoritma tersebut."
      ]
    },
    {
      "cell_type": "code",
      "execution_count": 20,
      "metadata": {
        "id": "hgYvwWOzM93L",
        "colab": {
          "base_uri": "https://localhost:8080/",
          "height": 542
        },
        "outputId": "f88c7dcc-de32-423f-bd82-86f61f9eccf7"
      },
      "outputs": [
        {
          "output_type": "display_data",
          "data": {
            "text/plain": [
              "<Figure size 800x550 with 2 Axes>"
            ],
            "image/png": "[encoded data removed]"
          },
          "metadata": {}
        },
        {
          "output_type": "execute_result",
          "data": {
            "text/plain": [
              "<Axes: title={'center': 'Distortion Score Elbow for KMeans Clustering'}, xlabel='k', ylabel='distortion score'>"
            ]
          },
          "metadata": {},
          "execution_count": 20
        }
      ],
      "source": [
        "# Inisialisasi model KMeans tanpa parameter awal\n",
        "kmeans = KMeans()\n",
        "\n",
        "# Inisialisasi visualizer KElbow untuk menentukan jumlah cluster optimal\n",
        "visualizer = KElbowVisualizer(kmeans, k=(1, 10))\n",
        "\n",
        "# Fit visualizer dengan data untuk menemukan jumlah cluster optimal\n",
        "visualizer.fit(X)\n",
        "\n",
        "# Menampilkan grafik elbow untuk analisis\n",
        "visualizer.show()"
      ]
    },
    {
      "cell_type": "code",
      "source": [
        "# Inisialisasi dan melatih model KMeans dengan jumlah cluster = 3\n",
        "kmeans = KMeans(n_clusters=3, random_state=0)\n",
        "kmeans.fit(X)\n",
        "\n",
        "# Mendapatkan label cluster\n",
        "labels = kmeans.labels_\n",
        "df_lencoder['cluster'] = labels\n",
        "\n",
        "# Mendapatkan jumlah cluster\n",
        "k = 3\n",
        "\n",
        "# Fungsi untuk analisis karakteristik cluster\n",
        "def analyze_clusters(X, labels, k):\n",
        "  print(\"Analisis Karakteristik Setiap Cluster:\")\n",
        "  for cluster_id in range(k):\n",
        "    # Mengambil data untuk cluster saat ini\n",
        "    cluster_data = X[labels == cluster_id]\n",
        "\n",
        "    # Menghitung rata-rata untuk setiap fitur dalam cluster\n",
        "\n",
        "    mean_bedrooms = cluster_data[:, 0].mean() # Rata rata jumlah bedrooms\n",
        "    mean_bathrooms = cluster_data[:, 1].mean() # Rata rata jumlah bathrooms\n",
        "    mean_price = cluster_data[:, 2].mean() # Rata rata price\n",
        "    mean_title = cluster_data[:, 3].mean() # Rata rata title\n",
        "    mean_state = cluster_data[:, 4].mean() # Rata rata town\n",
        "\n",
        "    print(f\"\\nCluster {cluster_id + 1}:\")\n",
        "    print(f\"bedrooms: {mean_bedrooms:.2f}\")\n",
        "    print(f\"bathrooms: {mean_bathrooms:.2f}\")\n",
        "    print(f\"price: {mean_price:.2f}\")\n",
        "    print(f\"title: {mean_title:.2f}\")\n",
        "    print(f\"state: {mean_state:.2f}\")\n",
        "\n",
        "# Analisis karakteristik setiap cluster\n",
        "analyze_clusters(X, labels, k)"
      ],
      "metadata": {
        "id": "2ihssMvt-91C",
        "colab": {
          "base_uri": "https://localhost:8080/"
        },
        "outputId": "0a099fc2-7768-4374-e2e7-45fadb294558"
      },
      "execution_count": 21,
      "outputs": [
        {
          "output_type": "stream",
          "name": "stdout",
          "text": [
            "Analisis Karakteristik Setiap Cluster:\n",
            "\n",
            "Cluster 1:\n",
            "bedrooms: 4.07\n",
            "bathrooms: 4.46\n",
            "price: 58661214.57\n",
            "title: 2.78\n",
            "state: 13.76\n",
            "\n",
            "Cluster 2:\n",
            "bedrooms: 4.71\n",
            "bathrooms: 4.89\n",
            "price: 252866193.58\n",
            "title: 2.38\n",
            "state: 14.30\n",
            "\n",
            "Cluster 3:\n",
            "bedrooms: 4.72\n",
            "bathrooms: 4.91\n",
            "price: 136258784.10\n",
            "title: 2.52\n",
            "state: 14.34\n"
          ]
        }
      ]
    },
    {
      "cell_type": "markdown",
      "metadata": {
        "id": "zsGVwzPKMEvn"
      },
      "source": [
        "## **b. Evaluasi Model Clustering**"
      ]
    },
    {
      "cell_type": "markdown",
      "metadata": {
        "id": "qk63ew39MeBf"
      },
      "source": [
        "Untuk menentukan jumlah cluster yang optimal dalam model clustering, Anda dapat menggunakan metode Elbow atau Silhouette Score.\n",
        "\n",
        "Metode ini membantu kita menemukan jumlah cluster yang memberikan pemisahan terbaik antar kelompok data, sehingga model yang dibangun dapat lebih efektif. Berikut adalah **rekomendasi** tahapannya.\n",
        "1. Gunakan Silhouette Score dan Elbow Method untuk menentukan jumlah cluster optimal.\n",
        "2. Hitung Silhouette Score sebagai ukuran kualitas cluster."
      ]
    },
    {
      "cell_type": "code",
      "execution_count": 22,
      "metadata": {
        "id": "yrPkK_bvM-Ya",
        "colab": {
          "base_uri": "https://localhost:8080/",
          "height": 616
        },
        "outputId": "8fd603f4-08ff-474a-eb8e-f0600582a344"
      },
      "outputs": [
        {
          "output_type": "stream",
          "name": "stdout",
          "text": [
            "Untuk n_clusters = 2, silhouette score adalah 0.6155762923671981\n",
            "Untuk n_clusters = 3, silhouette score adalah 0.6258759605866486\n",
            "Untuk n_clusters = 4, silhouette score adalah 0.5263844098591479\n",
            "Untuk n_clusters = 5, silhouette score adalah 0.5768504808510144\n",
            "Untuk n_clusters = 6, silhouette score adalah 0.5448732384462058\n"
          ]
        },
        {
          "output_type": "display_data",
          "data": {
            "text/plain": [
              "<Figure size 800x550 with 1 Axes>"
            ],
            "image/png": "[encoded data removed]"
          },
          "metadata": {}
        }
      ],
      "source": [
        "range_n_clusters = [2, 3, 4, 5, 6]\n",
        "\n",
        "silhouette_scores = []\n",
        "\n",
        "for n_clusters in range_n_clusters:\n",
        "    kmeans = KMeans(n_clusters=n_clusters, random_state=0)\n",
        "    cluster_labels = kmeans.fit_predict(X)\n",
        "    silhouette_avg = silhouette_score(X, cluster_labels)\n",
        "    silhouette_scores.append(silhouette_avg)\n",
        "    print(f\"Untuk n_clusters = {n_clusters}, silhouette score adalah {silhouette_avg}\")\n",
        "\n",
        "# Plot Silhouette Score\n",
        "plt.plot(range_n_clusters, silhouette_scores, marker='o')\n",
        "plt.xlabel(\"Jumlah Cluster\")\n",
        "plt.ylabel(\"Silhouette Score\")\n",
        "plt.title(\"Silhouette Score untuk Berbagai Jumlah Cluster\")\n",
        "plt.show()"
      ]
    },
    {
      "cell_type": "code",
      "source": [
        "best_silhouette_score = max(silhouette_scores)\n",
        "best_n_clusters = range_n_clusters[silhouette_scores.index(best_silhouette_score)]\n",
        "\n",
        "print(f\"The best silhouette score is {best_silhouette_score} with {best_n_clusters} clusters.\")\n",
        "\n",
        "kmeans = KMeans(n_clusters=best_n_clusters, random_state=0)\n",
        "kmeans.fit(X)\n",
        "labels = kmeans.labels_\n",
        "\n",
        "analyze_clusters(X, labels, best_n_clusters)"
      ],
      "metadata": {
        "id": "4YWBQWY6Eub2",
        "colab": {
          "base_uri": "https://localhost:8080/"
        },
        "outputId": "f98e1f99-c619-40a1-9c00-dda00aab27b1"
      },
      "execution_count": 23,
      "outputs": [
        {
          "output_type": "stream",
          "name": "stdout",
          "text": [
            "The best silhouette score is 0.6258759605866486 with 3 clusters.\n",
            "Analisis Karakteristik Setiap Cluster:\n",
            "\n",
            "Cluster 1:\n",
            "bedrooms: 4.07\n",
            "bathrooms: 4.46\n",
            "price: 58661214.57\n",
            "title: 2.78\n",
            "state: 13.76\n",
            "\n",
            "Cluster 2:\n",
            "bedrooms: 4.71\n",
            "bathrooms: 4.89\n",
            "price: 252866193.58\n",
            "title: 2.38\n",
            "state: 14.30\n",
            "\n",
            "Cluster 3:\n",
            "bedrooms: 4.72\n",
            "bathrooms: 4.91\n",
            "price: 136258784.10\n",
            "title: 2.52\n",
            "state: 14.34\n"
          ]
        }
      ]
    },
    {
      "cell_type": "markdown",
      "metadata": {
        "id": "vWZp5vKNQddd"
      },
      "source": [
        "## **c. Feature Selection (Opsional)**"
      ]
    },
    {
      "cell_type": "markdown",
      "metadata": {
        "id": "QIHKgE07Q4c0"
      },
      "source": [
        "Silakan lakukan feature selection jika Anda membutuhkan optimasi model clustering. Jika Anda menerapkan proses ini, silakan lakukan pemodelan dan evaluasi kembali menggunakan kolom-kolom hasil feature selection. Terakhir, bandingkan hasil performa model sebelum dan sesudah menerapkan feature selection."
      ]
    },
    {
      "cell_type": "code",
      "execution_count": 24,
      "metadata": {
        "id": "Vbstha0PRUpI"
      },
      "outputs": [],
      "source": [
        "#Type your code here"
      ]
    },
    {
      "cell_type": "markdown",
      "metadata": {
        "id": "nn01TKkLLRiF"
      },
      "source": [
        "## **d. Visualisasi Hasil Clustering**"
      ]
    },
    {
      "cell_type": "markdown",
      "metadata": {
        "id": "gaz0fnhhMkRI"
      },
      "source": [
        "Setelah model clustering dilatih dan jumlah cluster optimal ditentukan, langkah selanjutnya adalah menampilkan hasil clustering melalui visualisasi.\n",
        "\n",
        "Berikut adalah **rekomendasi** tahapannya.\n",
        "1. Tampilkan hasil clustering dalam bentuk visualisasi, seperti grafik scatter plot atau 2D PCA projection."
      ]
    },
    {
      "cell_type": "code",
      "execution_count": 25,
      "metadata": {
        "id": "lfOjVvfYM-4v",
        "colab": {
          "base_uri": "https://localhost:8080/",
          "height": 562
        },
        "outputId": "4a286889-f314-46fe-e222-6298ff138b0d"
      },
      "outputs": [
        {
          "output_type": "display_data",
          "data": {
            "text/plain": [
              "<Figure size 1000x600 with 1 Axes>"
            ],
            "image/png": "[encoded data removed]"
          },
          "metadata": {}
        }
      ],
      "source": [
        "# Menggunakan PCA untuk reduksi dimensi\n",
        "pca = PCA(n_components=2)\n",
        "X_pca = pca.fit_transform(X)\n",
        "\n",
        "# Visualisasi hasil clustering dalam 2D PCA projection\n",
        "def plot_pca_clusters(X_pca, labels, k):\n",
        "    plt.figure(figsize=(10, 6))\n",
        "\n",
        "    # Plot setiap cluster dengan warna yang berbeda\n",
        "    for cluster_id in range(k):\n",
        "        cluster_data = X_pca[labels == cluster_id]\n",
        "        plt.scatter(cluster_data[:, 0], cluster_data[:, 1], label=f'Cluster {cluster_id + 1}')\n",
        "\n",
        "    # Tambahkan label dan judul\n",
        "    plt.xlabel('PCA 1')\n",
        "    plt.ylabel('PCA 2')\n",
        "    plt.title('Hasil Clustering KMeans dalam 2D PCA Projection')\n",
        "    plt.legend()\n",
        "    plt.show()\n",
        "\n",
        "# Panggil fungsi untuk plot PCA 2D\n",
        "plot_pca_clusters(X_pca, labels, k)"
      ]
    },
    {
      "cell_type": "markdown",
      "metadata": {
        "id": "X4eydPWJLH4I"
      },
      "source": [
        "## **e. Analisis dan Interpretasi Hasil Cluster**"
      ]
    },
    {
      "cell_type": "markdown",
      "source": [
        "\n",
        "Setelah melakukan clustering, langkah selanjutnya adalah menganalisis karakteristik dari masing-masing cluster berdasarkan fitur yang tersedia.\n",
        "\n",
        "Berikut adalah rekomendasi tahapannya.\n",
        "\n",
        "1. Analisis karakteristik tiap cluster berdasarkan fitur yang tersedia (misalnya, distribusi nilai dalam cluster).\n",
        "2. Berikan interpretasi: Apakah hasil clustering sesuai dengan ekspektasi dan logika bisnis? Apakah ada pola tertentu yang bisa dimanfaatkan?"
      ],
      "metadata": {
        "id": "SO-Aq2Yd2vcQ"
      }
    },
    {
      "cell_type": "code",
      "execution_count": 26,
      "metadata": {
        "id": "MFq0x-OzM_Wt",
        "colab": {
          "base_uri": "https://localhost:8080/"
        },
        "outputId": "f3fbb994-3ce1-4c4e-a978-99dbc5641d1c"
      },
      "outputs": [
        {
          "output_type": "stream",
          "name": "stdout",
          "text": [
            "       bedrooms  bathrooms      price                 title  state  cluster\n",
            "2             4          5  120000000       Detached Duplex  Lagos        2\n",
            "6             4          5   65000000       Detached Duplex  Lagos        0\n",
            "10            3          4   25000000     Terraced Duplexes  Abuja        0\n",
            "11            6          6   45000000  Semi Detached Duplex    Edo        0\n",
            "13            4          4   70000000  Semi Detached Duplex  Lagos        0\n",
            "...         ...        ...        ...                   ...    ...      ...\n",
            "24314         4          4   75000000       Detached Duplex  Lagos        0\n",
            "24318         4          5  110000000  Semi Detached Duplex  Lagos        2\n",
            "24322         4          5   25000000        Block of Flats   Ogun        0\n",
            "24323         4          5   68000000       Detached Duplex  Lagos        0\n",
            "24325         4          5   65000000       Detached Duplex  Lagos        0\n",
            "\n",
            "[10687 rows x 6 columns]\n",
            "Analisis Karakteristik Setiap Cluster:\n",
            "\n",
            "Cluster 1:\n",
            "  - bedrooms: 4\n",
            "  - bathrooms: 4\n",
            "  - price: 58661214\n",
            "  - title: Detached Duplex\n",
            "  - state: Lagos\n",
            "\n",
            "Cluster 2:\n",
            "  - bedrooms: 4\n",
            "  - bathrooms: 4\n",
            "  - price: 252866193\n",
            "  - title: Detached Duplex\n",
            "  - state: Lagos\n",
            "\n",
            "Cluster 3:\n",
            "  - bedrooms: 4\n",
            "  - bathrooms: 4\n",
            "  - price: 136258784\n",
            "  - title: Detached Duplex\n",
            "  - state: Lagos\n"
          ]
        }
      ],
      "source": [
        "# Reverse encoding untuk interpretasi agar tau dimana lokasi dan tipe rumah\n",
        "df_lencoder['title'] = df_lencoder['title'].map(label_mappings['title'])\n",
        "df_lencoder['state'] = df_lencoder['state'].map(label_mappings['state'])\n",
        "\n",
        "# Fungsi untuk analisis dan interpretasi karakteristik cluster\n",
        "def analyze_and_interpret_clusters(df, k, features):\n",
        "    print(\"Analisis Karakteristik Setiap Cluster:\")\n",
        "    for cluster_id in range(k):\n",
        "        cluster_data = df[df['cluster'] == cluster_id]\n",
        "\n",
        "        print(f\"\\nCluster {cluster_id + 1}:\")\n",
        "\n",
        "        for feature in features:\n",
        "            if feature in category_features:\n",
        "                value = cluster_data[feature].mode()[0]\n",
        "            else:\n",
        "                value = int(cluster_data[feature].mean())\n",
        "            print(f\"  - {feature}: {value}\")\n",
        "\n",
        "# Menampilkan DataFrame yang telah di-reverse encode dengan cluster\n",
        "print(df_lencoder[['bedrooms', 'bathrooms', 'price', 'title', 'state', 'cluster']])\n",
        "\n",
        "# Analisis karakteristik setiap cluster dengan nama kategori asli\n",
        "analyze_and_interpret_clusters(df_lencoder, best_n_clusters, ['bedrooms', 'bathrooms', 'price', 'title', 'state'])\n"
      ]
    },
    {
      "cell_type": "markdown",
      "metadata": {
        "id": "JfgVMEBDS3KG"
      },
      "source": [
        "Tulis hasil interpretasinya di sini.\n",
        "1. Cluster 1 Karakteristik:\n",
        "\n",
        "*   Bedrooms: 4\n",
        "*   Bathrooms: 4\n",
        "*   Price: Dengan rata rata harga 58.661.214 Nigerian Naira\n",
        "*   Title: Detached Duplex\n",
        "*   State: Lagos\n",
        "\n",
        "Cluster ini merepresentasikan properti dengan harga menengah yang umumnya adalah Detached Duplex berlokasi di Lagos. Properti dalam cluster ini cocok untuk keluarga yang mencari hunian nyaman dengan fasilitas cukup dan harga yang terjangkau. Properti dalam cluster ini menawarkan keseimbangan antara kenyamanan dan keterjangkauan, menjadikannya pilihan yang populer di pasar menengah.\n",
        "\n",
        "2. Cluster 2 Karakteristik:\n",
        "*   Bedrooms: 4\n",
        "*   Bathrooms: 4\n",
        "*   Price: Dengan rata rata harga 252.866.193 Nigerian Naira\n",
        "*   Title: Detached Duplex\n",
        "*   State: Lagos\n",
        "\n",
        "Cluster ini merepresentasikan properti mewah dengan harga tinggi yang umumnya adalah Detached Duplex berlokasi di Lagos. Properti dalam cluster ini sangat diminati oleh pembeli yang mencari hunian mewah dengan fasilitas lengkap. Mereka menawarkan eksklusivitas, kenyamanan, dan fasilitas premium yang menjadikan cluster ini target utama untuk pasar properti mewah.\n",
        "\n",
        "3. Cluster 3 Karakteristik:\n",
        "\n",
        "*   Bedrooms: 4\n",
        "*   Bathrooms: 4\n",
        "*   Price: Dengan rata rata harga 136.258.784 Nigerian Naira\n",
        "*   Title: Detached Duplex\n",
        "*   State: Lagos\n",
        "\n",
        "Cluster ini merepresentasikan properti dengan harga menengah ke atas yang umumnya adalah Detached Duplex berlokasi di Lagos. Properti dalam cluster ini menawarkan keseimbangan antara kemewahan dan keterjangkauan, cocok untuk keluarga yang menginginkan fasilitas premium tanpa biaya yang sangat tinggi. Properti ini menjembatani celah antara pasar properti menengah dan mewah, menyediakan opsi yang lebih terjangkau dengan fasilitas yang hampir sama dengan properti mewah.\n",
        "\n",
        "\n",
        "**Kesimpulan:**\n",
        "\n",
        "Dengan menggunakan fitur fitur meliputi bedrooms, bathrooms, price, title, dan state untuk memahami distribusi dan karakteristik properti di Nigeria. Dapat ditarik kesimpulan yaitu\n",
        "\n",
        "Cluster 1: Properti dengan harga menengah di Lagos, umumnya Detached Duplex, dengan harga rata-rata 58.661.214 ₦. Cocok untuk keluarga yang mencari hunian nyaman dan terjangkau.\n",
        "\n",
        "Cluster 2: Properti mewah dengan harga sangat tinggi di Lagos, umumnya Detached Duplex, dengan harga rata-rata 252.866.193 ₦. Sangat diminati oleh pembeli yang mencari hunian mewah dengan fasilitas lengkap.\n",
        "\n",
        "Cluster 3: Properti dengan harga menengah ke atas di Lagos, umumnya Detached Duplex, dengan harga rata-rata 136.258.784 ₦. Menawarkan keseimbangan antara kemewahan dan keterjangkauan.\n"
      ]
    },
    {
      "cell_type": "markdown",
      "metadata": {
        "id": "jaYP1fx5VgWO"
      },
      "source": [
        "# **7. Mengeksport Data**\n",
        "\n",
        "Simpan hasilnya ke dalam file CSV."
      ]
    },
    {
      "cell_type": "code",
      "execution_count": 29,
      "metadata": {
        "id": "fkbg_o80aRSH",
        "colab": {
          "base_uri": "https://localhost:8080/",
          "height": 17
        },
        "outputId": "86a44372-f7a5-48d4-9e0b-e44612edf29e"
      },
      "outputs": [
        {
          "output_type": "display_data",
          "data": {
            "text/plain": [
              "<IPython.core.display.Javascript object>"
            ],
            "application/javascript": [
              "\n",
              "    async function download(id, filename, size) {\n",
              "      if (!google.colab.kernel.accessAllowed) {\n",
              "        return;\n",
              "      }\n",
              "      const div = document.createElement('div');\n",
              "      const label = document.createElement('label');\n",
              "      label.textContent = `Downloading \"${filename}\": `;\n",
              "      div.appendChild(label);\n",
              "      const progress = document.createElement('progress');\n",
              "      progress.max = size;\n",
              "      div.appendChild(progress);\n",
              "      document.body.appendChild(div);\n",
              "\n",
              "      const buffers = [];\n",
              "      let downloaded = 0;\n",
              "\n",
              "      const channel = await google.colab.kernel.comms.open(id);\n",
              "      // Send a message to notify the kernel that we're ready.\n",
              "      channel.send({})\n",
              "\n",
              "      for await (const message of channel.messages) {\n",
              "        // Send a message to notify the kernel that we're ready.\n",
              "        channel.send({})\n",
              "        if (message.buffers) {\n",
              "          for (const buffer of message.buffers) {\n",
              "            buffers.push(buffer);\n",
              "            downloaded += buffer.byteLength;\n",
              "            progress.value = downloaded;\n",
              "          }\n",
              "        }\n",
              "      }\n",
              "      const blob = new Blob(buffers, {type: 'application/binary'});\n",
              "      const a = document.createElement('a');\n",
              "      a.href = window.URL.createObjectURL(blob);\n",
              "      a.download = filename;\n",
              "      div.appendChild(a);\n",
              "      a.click();\n",
              "      div.remove();\n",
              "    }\n",
              "  "
            ]
          },
          "metadata": {}
        },
        {
          "output_type": "display_data",
          "data": {
            "text/plain": [
              "<IPython.core.display.Javascript object>"
            ],
            "application/javascript": [
              "download(\"download_f6109f68-7456-4514-bc91-8b85c4398655\", \"clustered_nigeria_houses_data.csv\", 352229)"
            ]
          },
          "metadata": {}
        }
      ],
      "source": [
        "# Encode kembali fitur kategorikal ke numerik untuk tahap klasifikasi selanjutnya\n",
        "label_encoder_title = LabelEncoder()\n",
        "label_encoder_state = LabelEncoder()\n",
        "df_lencoder['title'] = label_encoder_title.fit_transform(df_lencoder['title'])\n",
        "df_lencoder['state'] = label_encoder_state.fit_transform(df_lencoder['state'])\n",
        "\n",
        "from google.colab import files\n",
        "df_lencoder.to_csv('clustered_nigeria_houses_data.csv', encoding = 'utf-8-sig')\n",
        "files.download('clustered_nigeria_houses_data.csv')"
      ]
    }
  ],
  "metadata": {
    "colab": {
      "provenance": []
    },
    "kernelspec": {
      "display_name": "Python 3",
      "name": "python3"
    },
    "language_info": {
      "name": "python"
    }
  },
  "nbformat": 4,
  "nbformat_minor": 0
}